{
  "nbformat": 4,
  "nbformat_minor": 0,
  "metadata": {
    "colab": {
      "name": "nwp1.ipynb",
      "provenance": [],
      "collapsed_sections": []
    },
    "kernelspec": {
      "name": "python3",
      "display_name": "Python 3"
    },
    "language_info": {
      "name": "python"
    },
    "accelerator": "GPU"
  },
  "cells": [
    {
      "cell_type": "code",
      "metadata": {
        "id": "0HGQP2DVo1YR"
      },
      "source": [
        "import numpy as np\n",
        "np.random.seed(42)\n",
        "import tensorflow as tf\n",
        "tf.random.set_seed(42)\n",
        "from keras.models import Sequential, load_model\n",
        "from keras.layers import Dense, Activation\n",
        "from keras.layers import LSTM, Dropout\n",
        "from keras.layers import TimeDistributed\n",
        "from keras.layers.core import Dense, Activation, Dropout, RepeatVector\n",
        "from tensorflow.keras.optimizers import RMSprop\n",
        "import matplotlib.pyplot as plt\n",
        "import pickle\n",
        "import sys\n",
        "import heapq\n",
        "import seaborn as sns\n",
        "from pylab import rcParams\n",
        "\n",
        "%matplotlib inline\n",
        "\n",
        "sns.set(style='whitegrid', palette='muted', font_scale=1.5)\n",
        "\n",
        "rcParams['figure.figsize'] = 12, 5"
      ],
      "execution_count": null,
      "outputs": []
    },
    {
      "cell_type": "code",
      "metadata": {
        "colab": {
          "base_uri": "https://localhost:8080/"
        },
        "id": "g-yC9_BMpKlv",
        "outputId": "30ab42f9-fb2e-4731-d035-dbf31f114a08"
      },
      "source": [
        "path = r'/content/nietzsche.txt'\n",
        "text = open(path, encoding='utf-8').read().lower()\n",
        "print('corpus length:', len(text))"
      ],
      "execution_count": null,
      "outputs": [
        {
          "output_type": "stream",
          "name": "stdout",
          "text": [
            "corpus length: 600893\n"
          ]
        }
      ]
    },
    {
      "cell_type": "code",
      "metadata": {
        "colab": {
          "base_uri": "https://localhost:8080/"
        },
        "id": "E9EU0zFrpKjF",
        "outputId": "233382d0-e3fd-4697-a7d9-26f96d9f340a"
      },
      "source": [
        "chars = sorted(list(set(text)))\n",
        "char_indices = dict((c, i) for i, c in enumerate(chars))\n",
        "indices_char = dict((i, c) for i, c in enumerate(chars))\n",
        "\n",
        "print(f'unique chars: {len(chars)}')"
      ],
      "execution_count": null,
      "outputs": [
        {
          "output_type": "stream",
          "name": "stdout",
          "text": [
            "unique chars: 57\n"
          ]
        }
      ]
    },
    {
      "cell_type": "code",
      "metadata": {
        "colab": {
          "base_uri": "https://localhost:8080/"
        },
        "id": "bvTyDt4apKgD",
        "outputId": "e4fc8dfb-9562-4deb-9427-106a409339f4"
      },
      "source": [
        "SEQUENCE_LENGTH = 40\n",
        "step = 3\n",
        "sentences = []\n",
        "next_chars = []\n",
        "for i in range(0, len(text) - SEQUENCE_LENGTH, step):\n",
        "    sentences.append(text[i: i + SEQUENCE_LENGTH])\n",
        "    next_chars.append(text[i + SEQUENCE_LENGTH])\n",
        "print(f'num training examples: {len(sentences)}')"
      ],
      "execution_count": null,
      "outputs": [
        {
          "output_type": "stream",
          "name": "stdout",
          "text": [
            "num training examples: 200285\n"
          ]
        }
      ]
    },
    {
      "cell_type": "code",
      "metadata": {
        "id": "DJ8ZsYyXpKc-"
      },
      "source": [
        "X = np.zeros((len(sentences), SEQUENCE_LENGTH, len(chars)), dtype=np.bool)\n",
        "y = np.zeros((len(sentences), len(chars)), dtype=np.bool)\n",
        "for i, sentence in enumerate(sentences):\n",
        "    for t, char in enumerate(sentence):\n",
        "        X[i, t, char_indices[char]] = 1\n",
        "    y[i, char_indices[next_chars[i]]] = 1"
      ],
      "execution_count": null,
      "outputs": []
    },
    {
      "cell_type": "code",
      "metadata": {
        "colab": {
          "base_uri": "https://localhost:8080/",
          "height": 35
        },
        "id": "CS8HK9--pKZ6",
        "outputId": "3c0b8ced-ebe9-411b-8253-cf167c5b507f"
      },
      "source": [
        "sentences[100]"
      ],
      "execution_count": null,
      "outputs": [
        {
          "output_type": "execute_result",
          "data": {
            "application/vnd.google.colaboratory.intrinsic+json": {
              "type": "string"
            },
            "text/plain": [
              "'ve been unskilled and unseemly methods f'"
            ]
          },
          "metadata": {},
          "execution_count": 6
        }
      ]
    },
    {
      "cell_type": "code",
      "metadata": {
        "colab": {
          "base_uri": "https://localhost:8080/",
          "height": 35
        },
        "id": "7r09WhvGpKW8",
        "outputId": "7b0690ca-94e1-4eeb-eed3-1dd9fbfb7b51"
      },
      "source": [
        "next_chars[100]"
      ],
      "execution_count": null,
      "outputs": [
        {
          "output_type": "execute_result",
          "data": {
            "application/vnd.google.colaboratory.intrinsic+json": {
              "type": "string"
            },
            "text/plain": [
              "'o'"
            ]
          },
          "metadata": {},
          "execution_count": 7
        }
      ]
    },
    {
      "cell_type": "code",
      "metadata": {
        "colab": {
          "base_uri": "https://localhost:8080/"
        },
        "id": "mrn3sRFLpKUG",
        "outputId": "8c17888c-703c-4a08-ecc8-9b71fe6f39f1"
      },
      "source": [
        "X[0][0]"
      ],
      "execution_count": null,
      "outputs": [
        {
          "output_type": "execute_result",
          "data": {
            "text/plain": [
              "array([False, False, False, False, False, False, False, False, False,\n",
              "       False, False, False, False, False, False, False, False, False,\n",
              "       False, False, False, False, False, False, False, False, False,\n",
              "       False, False, False, False, False, False, False, False, False,\n",
              "       False, False, False, False, False, False,  True, False, False,\n",
              "       False, False, False, False, False, False, False, False, False,\n",
              "       False, False, False])"
            ]
          },
          "metadata": {},
          "execution_count": 8
        }
      ]
    },
    {
      "cell_type": "code",
      "metadata": {
        "colab": {
          "base_uri": "https://localhost:8080/"
        },
        "id": "IBOw9FcWpKRC",
        "outputId": "6c8ec11e-d572-4520-cdcd-ae55edd6a0c4"
      },
      "source": [
        "y[0]"
      ],
      "execution_count": null,
      "outputs": [
        {
          "output_type": "execute_result",
          "data": {
            "text/plain": [
              "array([False, False, False, False, False, False, False, False, False,\n",
              "       False, False, False, False, False, False, False, False, False,\n",
              "       False, False, False, False, False, False, False, False, False,\n",
              "       False, False, False, False, False, False, False, False, False,\n",
              "       False, False, False, False,  True, False, False, False, False,\n",
              "       False, False, False, False, False, False, False, False, False,\n",
              "       False, False, False])"
            ]
          },
          "metadata": {},
          "execution_count": 9
        }
      ]
    },
    {
      "cell_type": "code",
      "metadata": {
        "colab": {
          "base_uri": "https://localhost:8080/"
        },
        "id": "UJ57IqBRpKN3",
        "outputId": "d9747ff1-ce59-4b26-f8f0-44568f089d92"
      },
      "source": [
        "X.shape"
      ],
      "execution_count": null,
      "outputs": [
        {
          "output_type": "execute_result",
          "data": {
            "text/plain": [
              "(200285, 40, 57)"
            ]
          },
          "metadata": {},
          "execution_count": 10
        }
      ]
    },
    {
      "cell_type": "code",
      "metadata": {
        "colab": {
          "base_uri": "https://localhost:8080/"
        },
        "id": "68ugEXN_pKIT",
        "outputId": "bb11e108-6995-4074-98fa-b32f96c8726c"
      },
      "source": [
        "y.shape"
      ],
      "execution_count": null,
      "outputs": [
        {
          "output_type": "execute_result",
          "data": {
            "text/plain": [
              "(200285, 57)"
            ]
          },
          "metadata": {},
          "execution_count": 11
        }
      ]
    },
    {
      "cell_type": "code",
      "metadata": {
        "id": "JR4Mk4LqpKFh"
      },
      "source": [
        "model = Sequential()\n",
        "model.add(LSTM(128, input_shape=(SEQUENCE_LENGTH, len(chars))))\n",
        "model.add(Dense(len(chars)))\n",
        "model.add(Activation('softmax'))"
      ],
      "execution_count": null,
      "outputs": []
    },
    {
      "cell_type": "code",
      "metadata": {
        "colab": {
          "base_uri": "https://localhost:8080/"
        },
        "id": "Nc7DNDIVpKCk",
        "outputId": "5710aae7-b3e9-464a-a9b3-ae01a8bd2d46"
      },
      "source": [
        "optimizer = RMSprop(learning_rate=0.01)\n",
        "model.compile(loss='categorical_crossentropy', optimizer=optimizer, metrics=['accuracy'])\n",
        "history = model.fit(X, y, validation_split=0.05, batch_size=128, epochs=20, shuffle=True).history"
      ],
      "execution_count": null,
      "outputs": [
        {
          "output_type": "stream",
          "name": "stdout",
          "text": [
            "Epoch 1/20\n",
            "1487/1487 [==============================] - 27s 14ms/step - loss: 1.9849 - accuracy: 0.4186 - val_loss: 1.6772 - val_accuracy: 0.4993\n",
            "Epoch 2/20\n",
            "1487/1487 [==============================] - 19s 13ms/step - loss: 1.6319 - accuracy: 0.5149 - val_loss: 1.5714 - val_accuracy: 0.5286\n",
            "Epoch 3/20\n",
            "1487/1487 [==============================] - 19s 12ms/step - loss: 1.5398 - accuracy: 0.5409 - val_loss: 1.5381 - val_accuracy: 0.5348\n",
            "Epoch 4/20\n",
            "1487/1487 [==============================] - 19s 13ms/step - loss: 1.4930 - accuracy: 0.5527 - val_loss: 1.5179 - val_accuracy: 0.5455\n",
            "Epoch 5/20\n",
            "1487/1487 [==============================] - 19s 13ms/step - loss: 1.4621 - accuracy: 0.5610 - val_loss: 1.5086 - val_accuracy: 0.5528\n",
            "Epoch 6/20\n",
            "1487/1487 [==============================] - 18s 12ms/step - loss: 1.4365 - accuracy: 0.5669 - val_loss: 1.5088 - val_accuracy: 0.5463\n",
            "Epoch 7/20\n",
            "1487/1487 [==============================] - 18s 12ms/step - loss: 1.4203 - accuracy: 0.5715 - val_loss: 1.4835 - val_accuracy: 0.5563\n",
            "Epoch 8/20\n",
            "1487/1487 [==============================] - 18s 12ms/step - loss: 1.4065 - accuracy: 0.5755 - val_loss: 1.4923 - val_accuracy: 0.5541\n",
            "Epoch 9/20\n",
            "1487/1487 [==============================] - 18s 12ms/step - loss: 1.3947 - accuracy: 0.5788 - val_loss: 1.4979 - val_accuracy: 0.5489\n",
            "Epoch 10/20\n",
            "1487/1487 [==============================] - 18s 12ms/step - loss: 1.3838 - accuracy: 0.5810 - val_loss: 1.4981 - val_accuracy: 0.5524\n",
            "Epoch 11/20\n",
            "1487/1487 [==============================] - 18s 12ms/step - loss: 1.3766 - accuracy: 0.5834 - val_loss: 1.4875 - val_accuracy: 0.5593\n",
            "Epoch 12/20\n",
            "1487/1487 [==============================] - 18s 12ms/step - loss: 1.3657 - accuracy: 0.5864 - val_loss: 1.4803 - val_accuracy: 0.5608\n",
            "Epoch 13/20\n",
            "1487/1487 [==============================] - 18s 12ms/step - loss: 1.3603 - accuracy: 0.5874 - val_loss: 1.4915 - val_accuracy: 0.5579\n",
            "Epoch 14/20\n",
            "1487/1487 [==============================] - 18s 12ms/step - loss: 1.3544 - accuracy: 0.5895 - val_loss: 1.4869 - val_accuracy: 0.5601\n",
            "Epoch 15/20\n",
            "1487/1487 [==============================] - 18s 12ms/step - loss: 1.3488 - accuracy: 0.5897 - val_loss: 1.4876 - val_accuracy: 0.5615\n",
            "Epoch 16/20\n",
            "1487/1487 [==============================] - 18s 12ms/step - loss: 1.3426 - accuracy: 0.5914 - val_loss: 1.4863 - val_accuracy: 0.5568\n",
            "Epoch 17/20\n",
            "1487/1487 [==============================] - 18s 12ms/step - loss: 1.3367 - accuracy: 0.5921 - val_loss: 1.4822 - val_accuracy: 0.5596\n",
            "Epoch 18/20\n",
            "1487/1487 [==============================] - 18s 12ms/step - loss: 1.3310 - accuracy: 0.5941 - val_loss: 1.4794 - val_accuracy: 0.5635\n",
            "Epoch 19/20\n",
            "1487/1487 [==============================] - 18s 12ms/step - loss: 1.3278 - accuracy: 0.5944 - val_loss: 1.4884 - val_accuracy: 0.5578\n",
            "Epoch 20/20\n",
            "1487/1487 [==============================] - 18s 12ms/step - loss: 1.3248 - accuracy: 0.5965 - val_loss: 1.4918 - val_accuracy: 0.5597\n"
          ]
        }
      ]
    },
    {
      "cell_type": "code",
      "metadata": {
        "id": "W96n15NtpJ_g"
      },
      "source": [
        "model.save('keras_model.h5')\n",
        "pickle.dump(history, open(\"history.p\", \"wb\"))"
      ],
      "execution_count": null,
      "outputs": []
    },
    {
      "cell_type": "code",
      "metadata": {
        "id": "lJwhvVhupJ83"
      },
      "source": [
        "model = load_model('keras_model.h5')\n",
        "history = pickle.load(open(\"history.p\", \"rb\"))"
      ],
      "execution_count": null,
      "outputs": []
    },
    {
      "cell_type": "code",
      "metadata": {
        "colab": {
          "base_uri": "https://localhost:8080/",
          "height": 318
        },
        "id": "mEdxqWQIpJ5_",
        "outputId": "7a310eac-31e1-4815-9916-71775145f08a"
      },
      "source": [
        "plt.plot(history['accuracy'])\n",
        "plt.plot(history['val_accuracy'])\n",
        "plt.title('model accuracy')\n",
        "plt.ylabel('accuracy')\n",
        "plt.xlabel('epoch')\n",
        "plt.legend(['train', 'test'], loc='upper left');"
      ],
      "execution_count": null,
      "outputs": [
        {
          "output_type": "display_data",
          "data": {
            "image/png": "[encoded data removed]",
            "text/plain": [
              "<Figure size 432x288 with 1 Axes>"
            ]
          },
          "metadata": {
            "needs_background": "light"
          }
        }
      ]
    },
    {
      "cell_type": "code",
      "metadata": {
        "colab": {
          "base_uri": "https://localhost:8080/",
          "height": 318
        },
        "id": "C-TxXGP2pJ23",
        "outputId": "21b3d5bf-e4c9-4cc4-9edc-ac05591a7aa8"
      },
      "source": [
        "plt.plot(history['loss'])\n",
        "plt.plot(history['val_loss'])\n",
        "plt.title('model loss')\n",
        "plt.ylabel('loss')\n",
        "plt.xlabel('epoch')\n",
        "plt.legend(['train', 'test'], loc='upper left');"
      ],
      "execution_count": null,
      "outputs": [
        {
          "output_type": "display_data",
          "data": {
            "image/png": "[encoded data removed]",
            "text/plain": [
              "<Figure size 432x288 with 1 Axes>"
            ]
          },
          "metadata": {
            "needs_background": "light"
          }
        }
      ]
    },
    {
      "cell_type": "code",
      "metadata": {
        "id": "jj41GA8jpJz5"
      },
      "source": [
        "def prepare_input(text):\n",
        "    x = np.zeros((1, SEQUENCE_LENGTH, len(chars)))\n",
        "    for t, char in enumerate(text):\n",
        "        x[0, t, char_indices[char]] = 1.\n",
        "        \n",
        "    return x"
      ],
      "execution_count": null,
      "outputs": []
    },
    {
      "cell_type": "code",
      "metadata": {
        "colab": {
          "base_uri": "https://localhost:8080/"
        },
        "id": "k3hBI5JKpJwn",
        "outputId": "9304916a-27fd-4261-8f90-4d5be6aea92a"
      },
      "source": [
        "prepare_input(\"This is an example of input for our LSTM\".lower())"
      ],
      "execution_count": null,
      "outputs": [
        {
          "output_type": "execute_result",
          "data": {
            "text/plain": [
              "array([[[0., 0., 0., ..., 0., 0., 0.],\n",
              "        [0., 0., 0., ..., 0., 0., 0.],\n",
              "        [0., 0., 0., ..., 0., 0., 0.],\n",
              "        ...,\n",
              "        [0., 0., 0., ..., 0., 0., 0.],\n",
              "        [0., 0., 0., ..., 0., 0., 0.],\n",
              "        [0., 0., 0., ..., 0., 0., 0.]]])"
            ]
          },
          "metadata": {},
          "execution_count": 19
        }
      ]
    },
    {
      "cell_type": "code",
      "metadata": {
        "id": "blRX52AwpJtx"
      },
      "source": [
        "def sample(preds, top_n=3):\n",
        "    preds = np.asarray(preds).astype('float64')\n",
        "    preds = np.log(preds)\n",
        "    exp_preds = np.exp(preds)\n",
        "    preds = exp_preds / np.sum(exp_preds)\n",
        "    \n",
        "    return heapq.nlargest(top_n, range(len(preds)), preds.take)"
      ],
      "execution_count": null,
      "outputs": []
    },
    {
      "cell_type": "code",
      "metadata": {
        "id": "PlGU7pgwpJq5"
      },
      "source": [
        "def predict_completion(text):\n",
        "    original_text = text\n",
        "    generated = text\n",
        "    completion = ''\n",
        "    while True:\n",
        "        x = prepare_input(text)\n",
        "        preds = model.predict(x, verbose=0)[0]\n",
        "        next_index = sample(preds, top_n=1)[0]\n",
        "        next_char = indices_char[next_index]\n",
        "        text = text[1:] + next_char\n",
        "        completion += next_char\n",
        "        \n",
        "        if len(original_text + completion) + 2 > len(original_text) and next_char == ' ':\n",
        "            return completion"
      ],
      "execution_count": null,
      "outputs": []
    },
    {
      "cell_type": "code",
      "metadata": {
        "id": "vRDbtl5opJn2"
      },
      "source": [
        "def predict_completions(text, n=3):\n",
        "    x = prepare_input(text)\n",
        "    preds = model.predict(x, verbose=0)[0]\n",
        "    next_indices = sample(preds, n)\n",
        "    return [indices_char[idx] + predict_completion(text[1:] + indices_char[idx]) for idx in next_indices]"
      ],
      "execution_count": null,
      "outputs": []
    },
    {
      "cell_type": "code",
      "metadata": {
        "id": "iAt5otQkpJik"
      },
      "source": [
        "quotes = [\n",
        "    \"It is not a lack of love, but a lack of friendship that makes unhappy marriages.\",\n",
        "    \"That which does not kill us makes us stronger.\",\n",
        "    \"I'm not upset that you lied to me, I'm upset that from now on I can't believe you.\",\n",
        "    \"And those who were seen dancing were thought to be insane by those who could not hear the music.\",\n",
        "    \"It is hard enough to remember my opinions, without also remembering my reasons for them!\"\n",
        "]"
      ],
      "execution_count": null,
      "outputs": []
    },
    {
      "cell_type": "code",
      "metadata": {
        "colab": {
          "base_uri": "https://localhost:8080/"
        },
        "id": "6q-4xJAupJfR",
        "outputId": "19412412-ee93-4b01-f30a-abc0e9453db8"
      },
      "source": [
        "for q in quotes:\n",
        "    seq = q[:40].lower()\n",
        "    print(seq)\n",
        "    print(predict_completions(seq, 5))\n",
        "    print()"
      ],
      "execution_count": null,
      "outputs": [
        {
          "output_type": "stream",
          "name": "stdout",
          "text": [
            "it is not a lack of love, but a lack of \n",
            "['the ', 'an ', 'conscience ', 'man ', 'philosophers ']\n",
            "\n",
            "that which does not kill us makes us str\n",
            "['ong ', 'ength ', 'ive ', 'ange ', 'ugg ']\n",
            "\n",
            "i'm not upset that you lied to me, i'm u\n",
            "['seful ', 'nconditional ', 'pon ', 'ltimate ', 'ttely ']\n",
            "\n",
            "and those who were seen dancing were tho\n",
            "['ught ', 'se ', 'rough ', 'o ', 'nounes, ']\n",
            "\n",
            "it is hard enough to remember my opinion\n",
            "[' of ', ', ', 's ', '. ', '\\nof ']\n",
            "\n"
          ]
        }
      ]
    },
    {
      "cell_type": "code",
      "metadata": {
        "id": "aK5yPyiMpJcO"
      },
      "source": [
        ""
      ],
      "execution_count": null,
      "outputs": []
    },
    {
      "cell_type": "code",
      "metadata": {
        "id": "W7ELHbqJpJZP"
      },
      "source": [
        ""
      ],
      "execution_count": null,
      "outputs": []
    },
    {
      "cell_type": "code",
      "metadata": {
        "id": "AZZbBvnHpJWS"
      },
      "source": [
        ""
      ],
      "execution_count": null,
      "outputs": []
    },
    {
      "cell_type": "code",
      "metadata": {
        "id": "2OYRh3tNpJS_"
      },
      "source": [
        ""
      ],
      "execution_count": null,
      "outputs": []
    },
    {
      "cell_type": "code",
      "metadata": {
        "id": "io36QzbjpJP0"
      },
      "source": [
        ""
      ],
      "execution_count": null,
      "outputs": []
    },
    {
      "cell_type": "code",
      "metadata": {
        "id": "jbTO2Ny4pJNM"
      },
      "source": [
        ""
      ],
      "execution_count": null,
      "outputs": []
    },
    {
      "cell_type": "code",
      "metadata": {
        "id": "hSzMnneHpJKQ"
      },
      "source": [
        ""
      ],
      "execution_count": null,
      "outputs": []
    },
    {
      "cell_type": "code",
      "metadata": {
        "id": "4mdDxfrGpJHZ"
      },
      "source": [
        ""
      ],
      "execution_count": null,
      "outputs": []
    },
    {
      "cell_type": "code",
      "metadata": {
        "id": "NO-9vG0WpJEa"
      },
      "source": [
        ""
      ],
      "execution_count": null,
      "outputs": []
    },
    {
      "cell_type": "code",
      "metadata": {
        "id": "J5cCdxNWpJBu"
      },
      "source": [
        ""
      ],
      "execution_count": null,
      "outputs": []
    },
    {
      "cell_type": "code",
      "metadata": {
        "id": "LEkvGrPJpI-3"
      },
      "source": [
        ""
      ],
      "execution_count": null,
      "outputs": []
    },
    {
      "cell_type": "code",
      "metadata": {
        "id": "81Sy0dphpI7q"
      },
      "source": [
        ""
      ],
      "execution_count": null,
      "outputs": []
    },
    {
      "cell_type": "code",
      "metadata": {
        "id": "UgCH5KJ9pI4K"
      },
      "source": [
        ""
      ],
      "execution_count": null,
      "outputs": []
    },
    {
      "cell_type": "code",
      "metadata": {
        "id": "puvxwIF9pI1O"
      },
      "source": [
        ""
      ],
      "execution_count": null,
      "outputs": []
    },
    {
      "cell_type": "code",
      "metadata": {
        "id": "yXEPFpBvpIyC"
      },
      "source": [
        ""
      ],
      "execution_count": null,
      "outputs": []
    },
    {
      "cell_type": "code",
      "metadata": {
        "id": "RODgxK8bpIvD"
      },
      "source": [
        ""
      ],
      "execution_count": null,
      "outputs": []
    },
    {
      "cell_type": "code",
      "metadata": {
        "id": "GSIqjsjvpIsW"
      },
      "source": [
        ""
      ],
      "execution_count": null,
      "outputs": []
    },
    {
      "cell_type": "code",
      "metadata": {
        "id": "hNluecoopIpt"
      },
      "source": [
        ""
      ],
      "execution_count": null,
      "outputs": []
    },
    {
      "cell_type": "code",
      "metadata": {
        "id": "JpsiGoLbpIkV"
      },
      "source": [
        ""
      ],
      "execution_count": null,
      "outputs": []
    },
    {
      "cell_type": "code",
      "metadata": {
        "id": "Ry_MZtO8pIhQ"
      },
      "source": [
        ""
      ],
      "execution_count": null,
      "outputs": []
    }
  ]
}